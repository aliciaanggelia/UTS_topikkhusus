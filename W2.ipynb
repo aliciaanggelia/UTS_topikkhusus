{
  "nbformat": 4,
  "nbformat_minor": 0,
  "metadata": {
    "colab": {
      "name": "W2.ipynb",
      "provenance": []
    },
    "kernelspec": {
      "name": "python3",
      "display_name": "Python 3"
    },
    "language_info": {
      "name": "python"
    }
  },
  "cells": [
    {
      "cell_type": "code",
      "metadata": {
        "id": "k3hJ875pbMQd"
      },
      "source": [
        "import tensorflow as tf\n",
        "from tensorflow import keras\n",
        "from keras.models import Sequential\n",
        "from keras.datasets import mnist\n",
        "from keras.layers.core import Dense,Activation,Flatten\n",
        "import numpy as np\n",
        "import matplotlib.pyplot as plt\n",
        "import matplotlib.image as mpimg\n",
        "from keras.preprocessing import image"
      ],
      "execution_count": 1,
      "outputs": []
    },
    {
      "cell_type": "code",
      "metadata": {
        "id": "nbe3yW3wbOme"
      },
      "source": [
        "#load data\n",
        "(train_x, train_y), (test_x,test_y)= mnist.load_data()\n",
        "\n",
        "#split the data\n",
        "num_train = 2000\n",
        "train_x = train_x[:num_train]\n",
        "train_y = train_y[:num_train]\n",
        "\n",
        "num_test = 2000\n",
        "test_x = test_x[:num_test]\n",
        "test_y = test_y[:num_test]"
      ],
      "execution_count": 2,
      "outputs": []
    },
    {
      "cell_type": "code",
      "metadata": {
        "id": "mCCqeF_4bUrE"
      },
      "source": [
        "#convert input to one hot\n",
        "np.set_printoptions(linewidth=200)\n",
        "#print(np.array(train_x[0]))\n",
        "x = np.array([[[1 if dd>0 else 0 for dd in m] for m in x] for x in train_x])\n",
        "x_test = np.array([[[1 if dd>0 else 0 for dd in m] for m in x] for x in test_x])\n",
        "#print(np.array(x[0]))\n",
        "\n",
        "#convert target to one hot\n",
        "#print(train_y[0])\n",
        "y = tf.keras.utils.to_categorical(train_y)\n",
        "y_test =  tf.keras.utils.to_categorical(train_y) \n",
        "#print(y[0])"
      ],
      "execution_count": 3,
      "outputs": []
    },
    {
      "cell_type": "code",
      "metadata": {
        "id": "QL6WUHjbbc0p",
        "outputId": "914aa94b-bc7e-4bfb-88aa-7bc36a926c7b",
        "colab": {
          "base_uri": "https://localhost:8080/"
        }
      },
      "source": [
        " num_uotput = y.shape[1]\n",
        "\n",
        " #model\n",
        " model = Sequential()\n",
        "\n",
        " model.add(Flatten(input_shape=(28,28)))\n",
        " model.add(Dense(512, activation='relu'))\n",
        " model.add(Dense(256, activation='relu'))\n",
        " model.add(Dense(128, activation='relu'))\n",
        " model.add(Dense(64, activation='relu'))\n",
        " \n",
        " model.add(Dense(num_uotput))\n",
        " model.add(Activation('sigmoid'))\n",
        "\n",
        " model.compile(loss='binary_crossentropy', optimizer='adam', metrics=['accuracy'])\n",
        " history = model.fit(x,y, validation_data=(x_test,y_test), batch_size=1, epochs=10)"
      ],
      "execution_count": 5,
      "outputs": [
        {
          "output_type": "stream",
          "name": "stdout",
          "text": [
            "Epoch 1/10\n",
            "2000/2000 [==============================] - 12s 6ms/step - loss: 0.1501 - accuracy: 0.7075 - val_loss: 1.1204 - val_accuracy: 0.1020\n",
            "Epoch 2/10\n",
            "2000/2000 [==============================] - 11s 5ms/step - loss: 0.0697 - accuracy: 0.8785 - val_loss: 1.3299 - val_accuracy: 0.1010\n",
            "Epoch 3/10\n",
            "2000/2000 [==============================] - 11s 6ms/step - loss: 0.0547 - accuracy: 0.9065 - val_loss: 1.4635 - val_accuracy: 0.1010\n",
            "Epoch 4/10\n",
            "2000/2000 [==============================] - 11s 6ms/step - loss: 0.0447 - accuracy: 0.9315 - val_loss: 1.6024 - val_accuracy: 0.0980\n",
            "Epoch 5/10\n",
            "2000/2000 [==============================] - 11s 6ms/step - loss: 0.0382 - accuracy: 0.9480 - val_loss: 1.9494 - val_accuracy: 0.1025\n",
            "Epoch 6/10\n",
            "2000/2000 [==============================] - 11s 6ms/step - loss: 0.0310 - accuracy: 0.9520 - val_loss: 2.5593 - val_accuracy: 0.0945\n",
            "Epoch 7/10\n",
            "2000/2000 [==============================] - 11s 5ms/step - loss: 0.0279 - accuracy: 0.9555 - val_loss: 2.6955 - val_accuracy: 0.1005\n",
            "Epoch 8/10\n",
            "2000/2000 [==============================] - 11s 5ms/step - loss: 0.0271 - accuracy: 0.9625 - val_loss: 3.5071 - val_accuracy: 0.1030\n",
            "Epoch 9/10\n",
            "2000/2000 [==============================] - 11s 5ms/step - loss: 0.0225 - accuracy: 0.9670 - val_loss: 3.7184 - val_accuracy: 0.1010\n",
            "Epoch 10/10\n",
            "2000/2000 [==============================] - 11s 5ms/step - loss: 0.0231 - accuracy: 0.9755 - val_loss: 3.3198 - val_accuracy: 0.1030\n"
          ]
        }
      ]
    },
    {
      "cell_type": "code",
      "metadata": {
        "id": "iTapoFE0bicH",
        "outputId": "176b6889-2d23-4fde-9307-35644314f2c3",
        "colab": {
          "base_uri": "https://localhost:8080/",
          "height": 279
        }
      },
      "source": [
        "plt.plot(history.history['accuracy'], label='accuracy')\n",
        "plt.plot(history.history['loss'], label = 'loss')\n",
        "plt.xlabel('Epoch')\n",
        "plt.ylabel('Accuracy')\n",
        "plt.legend()\n",
        "plt.show()"
      ],
      "execution_count": 6,
      "outputs": [
        {
          "output_type": "display_data",
          "data": {
            "image/png": "[encoded data removed]",
            "text/plain": [
              "<Figure size 432x288 with 1 Axes>"
            ]
          },
          "metadata": {
            "needs_background": "light"
          }
        }
      ]
    },
    {
      "cell_type": "code",
      "metadata": {
        "id": "dqdV8Py_bpmd",
        "outputId": "bbb2a625-c5e9-4079-dcef-7a8ed0bb4a46",
        "colab": {
          "base_uri": "https://localhost:8080/",
          "height": 549
        }
      },
      "source": [
        "plt.plot(history.history['accuracy'], label='accuracy')\n",
        "plt.plot(history.history['val_accuracy'], label = 'val_accuracy')\n",
        "plt.xlabel('Epoch')\n",
        "plt.ylabel('Accuracy')\n",
        "plt.ylim([0, 1])\n",
        "plt.legend(loc='lower right')\n",
        "plt.show()\n",
        "\n",
        "plt.plot(history.history['loss'], label='loss')\n",
        "plt.plot(history.history['val_loss'], label = 'val_loss')\n",
        "plt.xlabel('Epoch')\n",
        "plt.ylabel('loss')\n",
        "plt.ylim([0, 1])\n",
        "plt.legend(loc='lower right')\n",
        "plt.show()"
      ],
      "execution_count": 7,
      "outputs": [
        {
          "output_type": "display_data",
          "data": {
            "image/png": "[encoded data removed]",
            "text/plain": [
              "<Figure size 432x288 with 1 Axes>"
            ]
          },
          "metadata": {
            "needs_background": "light"
          }
        },
        {
          "output_type": "display_data",
          "data": {
            "image/png": "[encoded data removed]",
            "text/plain": [
              "<Figure size 432x288 with 1 Axes>"
            ]
          },
          "metadata": {
            "needs_background": "light"
          }
        }
      ]
    }
  ]
}