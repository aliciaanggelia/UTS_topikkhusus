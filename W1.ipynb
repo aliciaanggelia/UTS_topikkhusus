{
  "nbformat": 4,
  "nbformat_minor": 0,
  "metadata": {
    "colab": {
      "name": "W1.ipynb",
      "provenance": [],
      "collapsed_sections": []
    },
    "kernelspec": {
      "name": "python3",
      "display_name": "Python 3"
    },
    "language_info": {
      "name": "python"
    }
  },
  "cells": [
    {
      "cell_type": "code",
      "metadata": {
        "id": "5y0xtXa3XUyu"
      },
      "source": [
        "import tensorflow as tf\n",
        "from tensorflow import keras\n",
        "from keras.models import Sequential\n",
        "from keras.datasets import mnist\n",
        "from keras.layers.core import Dense,Activation,Flatten\n",
        "import numpy as np\n",
        "import matplotlib.pyplot as plt\n",
        "import matplotlib.image as mpimg\n",
        "from keras.preprocessing import image"
      ],
      "execution_count": 1,
      "outputs": []
    },
    {
      "cell_type": "code",
      "metadata": {
        "id": "SnRIskz6_x-O"
      },
      "source": [
        "#load data\n",
        "(train_x, train_y), (test_x,test_y)= mnist.load_data()\n",
        "\n",
        "#split the data\n",
        "num_train = 2000\n",
        "train_x = train_x[:num_train]\n",
        "train_y = train_y[:num_train]\n",
        "\n",
        "num_test = 2000\n",
        "test_x = test_x[:num_test]\n",
        "test_y = test_y[:num_test]"
      ],
      "execution_count": 2,
      "outputs": []
    },
    {
      "cell_type": "code",
      "metadata": {
        "id": "vT9xIMLSBX18"
      },
      "source": [
        "#convert input to one hot\n",
        "np.set_printoptions(linewidth=200)\n",
        "#print(np.array(train_x[0]))\n",
        "x = np.array([[[1 if dd>0 else 0 for dd in m] for m in x] for x in train_x])\n",
        "x_test = np.array([[[1 if dd>0 else 0 for dd in m] for m in x] for x in test_x])\n",
        "#print(np.array(x[0]))\n",
        "\n",
        "#convert target to one hot\n",
        "#print(train_y[0])\n",
        "y = tf.keras.utils.to_categorical(train_y)\n",
        "y_test =  tf.keras.utils.to_categorical(train_y) \n",
        "#print(y[0])"
      ],
      "execution_count": 3,
      "outputs": []
    },
    {
      "cell_type": "code",
      "metadata": {
        "colab": {
          "base_uri": "https://localhost:8080/"
        },
        "id": "bLDoijXuIM0j",
        "outputId": "739d22b3-35d4-4c9f-8bfe-4aa3909e1da0"
      },
      "source": [
        " num_uotput = y.shape[1]\n",
        "\n",
        " #model\n",
        " model = Sequential()\n",
        "\n",
        " model.add(Dense(10,input_shape=(28,28)))\n",
        " model.add(Flatten())\n",
        " model.add(Activation('sigmoid'))\n",
        " model.add(Dense(num_uotput))\n",
        " model.add(Activation('sigmoid'))\n",
        "\n",
        " sgd= tf.keras.optimizers.SGD(learning_rate=0.1)\n",
        " model.compile(loss='binary_crossentropy', optimizer=sgd, metrics=['accuracy'])\n",
        " history = model.fit(x,y, validation_data=(x_test,y_test), batch_size=1, epochs=10)"
      ],
      "execution_count": 4,
      "outputs": [
        {
          "output_type": "stream",
          "name": "stdout",
          "text": [
            "Epoch 1/10\n",
            "2000/2000 [==============================] - 6s 3ms/step - loss: 0.2587 - accuracy: 0.4445 - val_loss: 0.4177 - val_accuracy: 0.0985\n",
            "Epoch 2/10\n",
            "2000/2000 [==============================] - 5s 3ms/step - loss: 0.1444 - accuracy: 0.7755 - val_loss: 0.5527 - val_accuracy: 0.0990\n",
            "Epoch 3/10\n",
            "2000/2000 [==============================] - 4s 2ms/step - loss: 0.1135 - accuracy: 0.8245 - val_loss: 0.6374 - val_accuracy: 0.1025\n",
            "Epoch 4/10\n",
            "2000/2000 [==============================] - 5s 3ms/step - loss: 0.0998 - accuracy: 0.8480 - val_loss: 0.6849 - val_accuracy: 0.1030\n",
            "Epoch 5/10\n",
            "2000/2000 [==============================] - 5s 3ms/step - loss: 0.0907 - accuracy: 0.8650 - val_loss: 0.7343 - val_accuracy: 0.0980\n",
            "Epoch 6/10\n",
            "2000/2000 [==============================] - 5s 3ms/step - loss: 0.0847 - accuracy: 0.8825 - val_loss: 0.7755 - val_accuracy: 0.0955\n",
            "Epoch 7/10\n",
            "2000/2000 [==============================] - 4s 2ms/step - loss: 0.0801 - accuracy: 0.8825 - val_loss: 0.7936 - val_accuracy: 0.0980\n",
            "Epoch 8/10\n",
            "2000/2000 [==============================] - 5s 3ms/step - loss: 0.0775 - accuracy: 0.8880 - val_loss: 0.8220 - val_accuracy: 0.1000\n",
            "Epoch 9/10\n",
            "2000/2000 [==============================] - 4s 2ms/step - loss: 0.0741 - accuracy: 0.8995 - val_loss: 0.8414 - val_accuracy: 0.0995\n",
            "Epoch 10/10\n",
            "2000/2000 [==============================] - 4s 2ms/step - loss: 0.0720 - accuracy: 0.9010 - val_loss: 0.8545 - val_accuracy: 0.0985\n"
          ]
        }
      ]
    },
    {
      "cell_type": "code",
      "metadata": {
        "colab": {
          "base_uri": "https://localhost:8080/",
          "height": 279
        },
        "id": "4bOMJs2LM_Hk",
        "outputId": "bc0b4995-3cdb-4aa0-ca61-9b2dbb7c6e8b"
      },
      "source": [
        "plt.plot(history.history['accuracy'], label='accuracy')\n",
        "plt.plot(history.history['loss'], label = 'loss')\n",
        "plt.xlabel('Epoch')\n",
        "plt.ylabel('Accuracy')\n",
        "plt.legend()\n",
        "plt.show()"
      ],
      "execution_count": 5,
      "outputs": [
        {
          "output_type": "display_data",
          "data": {
            "image/png": "[encoded data removed]",
            "text/plain": [
              "<Figure size 432x288 with 1 Axes>"
            ]
          },
          "metadata": {
            "needs_background": "light"
          }
        }
      ]
    },
    {
      "cell_type": "code",
      "metadata": {
        "colab": {
          "base_uri": "https://localhost:8080/"
        },
        "id": "uWjSuOZLO1GR",
        "outputId": "69dbd927-0590-4455-9e83-64370a9091b9"
      },
      "source": [
        "model.evaluate(x_test,y_test)"
      ],
      "execution_count": 6,
      "outputs": [
        {
          "output_type": "stream",
          "name": "stdout",
          "text": [
            "63/63 [==============================] - 0s 2ms/step - loss: 0.8545 - accuracy: 0.0985\n"
          ]
        },
        {
          "output_type": "execute_result",
          "data": {
            "text/plain": [
              "[0.854457437992096, 0.09849999845027924]"
            ]
          },
          "metadata": {},
          "execution_count": 6
        }
      ]
    }
  ]
}